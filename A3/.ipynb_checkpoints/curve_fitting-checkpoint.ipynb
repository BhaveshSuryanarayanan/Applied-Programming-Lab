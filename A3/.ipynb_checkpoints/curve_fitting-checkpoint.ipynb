{
 "cells": [
  {
   "cell_type": "code",
   "execution_count": 418,
   "id": "566d5108-2e4f-406f-a651-1f11a670f04c",
   "metadata": {},
   "outputs": [],
   "source": [
    "import csv\n",
    "import numpy as np\n",
    "from scipy.optimize import curve_fit\n",
    "import matplotlib.pyplot as plt\n",
    "from scipy import constants"
   ]
  },
  {
   "cell_type": "code",
   "execution_count": 419,
   "id": "5c1c87fe-0cfc-4c04-bbc5-571e744df555",
   "metadata": {},
   "outputs": [],
   "source": [
    "# Open the CSV file and read the data\n",
    "file = open('d3.txt', 'r')\n",
    "reader = csv.reader(file)\n"
   ]
  },
  {
   "cell_type": "code",
   "execution_count": 420,
   "id": "605dfb3c-29d1-4e29-a515-0c80ddcded72",
   "metadata": {},
   "outputs": [],
   "source": [
    "data = list(reader)\n",
    "data = np.array(data, dtype=np.float64)"
   ]
  },
  {
   "cell_type": "code",
   "execution_count": 421,
   "id": "0685bac2-9b82-4347-a2e6-a8d6c02ef8cf",
   "metadata": {},
   "outputs": [
    {
     "name": "stdout",
     "output_type": "stream",
     "text": [
      "1000\n"
     ]
    }
   ],
   "source": [
    "x, y = data[:, 0], data[:, 1]\n",
    "n = x.size\n",
    "print(n)"
   ]
  },
  {
   "cell_type": "code",
   "execution_count": 422,
   "id": "74beb865-d5f3-4bd7-a202-d4d879155ab3",
   "metadata": {},
   "outputs": [],
   "source": [
    "# x = x[:n//2]\n",
    "# y = y[:n//2]"
   ]
  },
  {
   "cell_type": "code",
   "execution_count": 423,
   "id": "35cb0011-de38-4fac-a70b-f633288c1698",
   "metadata": {},
   "outputs": [],
   "source": [
    "# #window filter\n",
    "# def moving_average(x, y, window_size):\n",
    "#     y_smoothed = np.convolve(y, np.ones(window_size)/window_size, mode='valid')\n",
    "#     x_smoothed = x[:len(y_smoothed)]  # Adjust the x-values to match the length of y_smoothed\n",
    "#     return x_smoothed, y_smoothed\n",
    "# x,y = moving_average(x,y,5)#(2*len(x))//100)"
   ]
  },
  {
   "cell_type": "code",
   "execution_count": 424,
   "id": "a62a2d36-b4a2-4240-9f6c-48273d286508",
   "metadata": {},
   "outputs": [],
   "source": [
    "# #remove outliers (z-score)\n",
    "# mean = np.mean(x)\n",
    "# std = np.std(x)\n",
    "# z_scores = np.abs((x - mean) / std)\n",
    "# x = x[z_scores < 1]\n",
    "# y = y[z_scores < 1]\n",
    "# print(n-x.size)"
   ]
  },
  {
   "cell_type": "code",
   "execution_count": 425,
   "id": "52bd2b4b-7dba-4a5c-ac6b-003a5cb31df3",
   "metadata": {},
   "outputs": [],
   "source": [
    "# Q1 = np.percentile(data, 25)\n",
    "# Q3 = np.percentile(data, 75)\n",
    "# IQR = Q3 - Q1\n",
    "# filtered_data = data[(data >= Q1 - 1.5 * IQR) & (data <= Q3 + 1.5 * IQR)]"
   ]
  },
  {
   "cell_type": "code",
   "execution_count": 426,
   "id": "a814013a-453e-4c50-abc8-6da2f77a21e3",
   "metadata": {},
   "outputs": [
    {
     "data": {
      "image/png": "[encoded data removed]",
      "text/plain": [
       "<Figure size 300x300 with 1 Axes>"
      ]
     },
     "metadata": {},
     "output_type": "display_data"
    }
   ],
   "source": [
    "plt.figure(figsize=(3,3))\n",
    "plt.plot(x,y)\n",
    "plt.show()"
   ]
  },
  {
   "cell_type": "markdown",
   "id": "7f85ae74-fbe7-4752-a426-4e72a5ab50fd",
   "metadata": {},
   "source": [
    "# $B = \\frac{2hc^2}{l^5} \\frac{1}{e^\\frac{hc}{lkT}-1}$"
   ]
  },
  {
   "cell_type": "code",
   "execution_count": 427,
   "id": "068acbcf-b32c-4c7a-9f1a-b15f71513590",
   "metadata": {},
   "outputs": [
    {
     "data": {
      "text/plain": [
       "4851962825876.522"
      ]
     },
     "execution_count": 427,
     "metadata": {},
     "output_type": "execute_result"
    }
   ],
   "source": [
    "np.max(y)"
   ]
  },
  {
   "cell_type": "code",
   "execution_count": 428,
   "id": "11b209ad-7957-4c5f-b882-a74c4f5fb00c",
   "metadata": {},
   "outputs": [
    {
     "name": "stdout",
     "output_type": "stream",
     "text": [
      "125\n"
     ]
    }
   ],
   "source": [
    "imax = np.argmax(y)\n",
    "print(imax)"
   ]
  },
  {
   "cell_type": "code",
   "execution_count": 429,
   "id": "b3a4a1d9-8ce0-4b32-b313-9ee380e5e49e",
   "metadata": {},
   "outputs": [
    {
     "name": "stdout",
     "output_type": "stream",
     "text": [
      "7.131131131131131e-07\n"
     ]
    }
   ],
   "source": [
    "xmax = x[imax]\n",
    "ymax = y[imax]\n",
    "print(xmax)"
   ]
  },
  {
   "cell_type": "code",
   "execution_count": 430,
   "id": "a1bdd194-b5b0-40e7-b6ef-6b036540e7ad",
   "metadata": {},
   "outputs": [
    {
     "name": "stdout",
     "output_type": "stream",
     "text": [
      "6.62607015e-34 299792458.0 1.380649e-23 299792458.0 0.002897771955\n"
     ]
    }
   ],
   "source": [
    "h = constants.h\n",
    "c = constants.c\n",
    "kb = constants.k\n",
    "c = constants.c\n",
    "wien = constants.Wien\n",
    "print(h,c,kb,c,wien)"
   ]
  },
  {
   "cell_type": "markdown",
   "id": "7c4e407a-d92e-48c7-83ab-ccf71840944f",
   "metadata": {},
   "source": [
    "## $B = \\frac{a}{l^5} \\frac{1}{e^\\frac{b}{l}-1}$"
   ]
  },
  {
   "cell_type": "markdown",
   "id": "2c2e7cdc-1e3c-49df-9e41-53a4ab40f457",
   "metadata": {},
   "source": [
    "### $a = 2hc^2$\n",
    "### $b = \\frac{hc}{k_bT}$"
   ]
  },
  {
   "cell_type": "code",
   "execution_count": 431,
   "id": "1d56bd88-044f-40c7-8bc6-d7c12c5db1db",
   "metadata": {},
   "outputs": [],
   "source": [
    "def f(x,a,b):\n",
    "    return (a/x**5)/((np.e**(b/x))-1)"
   ]
  },
  {
   "cell_type": "code",
   "execution_count": 432,
   "id": "bc174a90-196b-410c-ba2f-56ec776c36a5",
   "metadata": {},
   "outputs": [
    {
     "name": "stdout",
     "output_type": "stream",
     "text": [
      "4063.5516325729927\n"
     ]
    }
   ],
   "source": [
    "T0= wien/xmax\n",
    "print(T0)"
   ]
  },
  {
   "cell_type": "code",
   "execution_count": 433,
   "id": "01a558b9-3298-4c5d-89d9-71facad0346c",
   "metadata": {},
   "outputs": [
    {
     "name": "stdout",
     "output_type": "stream",
     "text": [
      "1.1910429723971884e-16 3.54068806698764e-06\n"
     ]
    }
   ],
   "source": [
    "b0 = h*c/(kb*T0)\n",
    "ac = 2*h*(c**2)\n",
    "print(ac,b0)"
   ]
  },
  {
   "cell_type": "code",
   "execution_count": 434,
   "id": "fa812d36-8f6a-4e35-9c46-f25b048b2acb",
   "metadata": {},
   "outputs": [
    {
     "name": "stdout",
     "output_type": "stream",
     "text": [
      "1.2734753148633118e-16\n"
     ]
    }
   ],
   "source": [
    "a0 = ymax*((np.e**(b0/xmax))-1)*(xmax**5)\n",
    "print(a0)"
   ]
  },
  {
   "cell_type": "code",
   "execution_count": 435,
   "id": "d8bb8066-d41c-4717-b9ff-8e1e9fe2916f",
   "metadata": {},
   "outputs": [
    {
     "name": "stdout",
     "output_type": "stream",
     "text": [
      "1.1303312191047457e-16 3.558695679613733e-06\n"
     ]
    }
   ],
   "source": [
    "(a,b), pcov = curve_fit(f,x,y,p0=[a0,b0])\n",
    "print(a,b)"
   ]
  },
  {
   "cell_type": "code",
   "execution_count": 436,
   "id": "1e13c4e1-e6d6-4f29-abf4-005f10e9006d",
   "metadata": {},
   "outputs": [
    {
     "name": "stdout",
     "output_type": "stream",
     "text": [
      "4042.9893619341483\n"
     ]
    }
   ],
   "source": [
    "Tp = h*c/(kb*b)\n",
    "print(Tp)"
   ]
  },
  {
   "cell_type": "markdown",
   "id": "90b9ca33-44aa-465f-877d-65ef503ebbaf",
   "metadata": {},
   "source": [
    "#### Predicted temperatures\n",
    "T1 = 4041.8709686231955   \n",
    "T2 = 4310.2734965636655  \n",
    "T3 = 4042.9893045283557  \n",
    "T4 = 3948.91106182756  \n",
    "\n",
    "a1 = 1.15e-16  \n",
    "a2 = 0.77e-16   \n",
    "a3 = 1.13e-16  \n",
    "a4 = 1.12e-16"
   ]
  },
  {
   "cell_type": "markdown",
   "id": "85362990-0b0a-46c2-9b93-cc2e701d91d5",
   "metadata": {},
   "source": [
    "using window filter reduces the accuracy. correct value of a is 1.19e-19   \n",
    "without filter : 1.13e-19  \n",
    "with filter (size=5) : 1.06e-16"
   ]
  },
  {
   "cell_type": "markdown",
   "id": "6696cebe-ee45-4dbe-8b84-5e479f47db14",
   "metadata": {},
   "source": [
    "remove zscore with score=3(common value) doesn't remove any of the data points  \n",
    "on decreasing to score to 1, 400 points are remoed with decrease in a to 1.05e-19 :("
   ]
  },
  {
   "cell_type": "markdown",
   "id": "601915f5-2963-48bd-a3de-74b92570a68c",
   "metadata": {},
   "source": [
    "Using first half of the data doesn't give much improvement, but using second half gives garbage"
   ]
  },
  {
   "cell_type": "code",
   "execution_count": 437,
   "id": "c4dfe358-6c29-4937-8fcc-8a7405beed4e",
   "metadata": {},
   "outputs": [
    {
     "data": {
      "image/png": "[encoded data removed]",
      "text/plain": [
       "<Figure size 200x200 with 1 Axes>"
      ]
     },
     "metadata": {},
     "output_type": "display_data"
    }
   ],
   "source": [
    "plt.figure(figsize=(2,2))\n",
    "plt.scatter(x,y,color='blue', label='Data Points',s=2)\n",
    "plt.plot(x,f(x,a,b),color='red', label='fitted curve')\n",
    "plt.show()"
   ]
  },
  {
   "cell_type": "code",
   "execution_count": 438,
   "id": "4d356415-e824-4cf3-a9ad-aedf5475f4e1",
   "metadata": {},
   "outputs": [],
   "source": [
    "def f1(x,b):\n",
    "    a = ac\n",
    "    return (a/x**5)/((np.e**(b/x))-1)\n",
    "    # return (a/l**5)/(np.e**(b/(l*T))-1)"
   ]
  },
  {
   "cell_type": "code",
   "execution_count": 439,
   "id": "f402d814-52de-4b7e-aed7-b86dbdd5a5ab",
   "metadata": {},
   "outputs": [],
   "source": [
    "from scipy.optimize import curve_fit"
   ]
  },
  {
   "cell_type": "code",
   "execution_count": 440,
   "id": "e6bcf56f-5e08-4b37-8bda-74f4555cf05f",
   "metadata": {},
   "outputs": [],
   "source": [
    "b1, pcov = curve_fit(f1,x,y,p0=[b0])"
   ]
  },
  {
   "cell_type": "code",
   "execution_count": 441,
   "id": "40ef3938-7b04-451e-b56a-3c717631bf9e",
   "metadata": {},
   "outputs": [
    {
     "name": "stdout",
     "output_type": "stream",
     "text": [
      "1.1910429723971884e-16 [3.59648952e-06]\n"
     ]
    }
   ],
   "source": [
    "print(ac,b1)"
   ]
  },
  {
   "cell_type": "code",
   "execution_count": 442,
   "id": "7d59f9a8-7c8a-4045-b892-af88f0758326",
   "metadata": {},
   "outputs": [
    {
     "data": {
      "image/png": "[encoded data removed]",
      "text/plain": [
       "<Figure size 300x300 with 1 Axes>"
      ]
     },
     "metadata": {},
     "output_type": "display_data"
    }
   ],
   "source": [
    "plt.figure(figsize=(3,3))\n",
    "plt.scatter(x,f(x,a,b),color='blue', label='Data Points',s=2)\n",
    "plt.plot(x,f1(x,b1),color='red', label='fitted curve')\n",
    "plt.show()"
   ]
  },
  {
   "cell_type": "markdown",
   "id": "449f480d-faa0-4271-8154-062ab3309b88",
   "metadata": {},
   "source": [
    "### T values\n",
    "d1 = 12337.47253212  \n",
    "d2 = 8887.2690  \n",
    "d3 = 12424.09941144   \n",
    "d4 = 11790.58892269"
   ]
  }
 ],
 "metadata": {
  "kernelspec": {
   "display_name": "Python 3 (ipykernel)",
   "language": "python",
   "name": "python3"
  },
  "language_info": {
   "codemirror_mode": {
    "name": "ipython",
    "version": 3
   },
   "file_extension": ".py",
   "mimetype": "text/x-python",
   "name": "python",
   "nbconvert_exporter": "python",
   "pygments_lexer": "ipython3",
   "version": "3.9.19"
  }
 },
 "nbformat": 4,
 "nbformat_minor": 5
}
