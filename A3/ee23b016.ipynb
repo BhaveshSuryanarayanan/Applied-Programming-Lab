{
 "cells": [
  {
   "cell_type": "code",
   "execution_count": 1,
   "id": "566d5108-2e4f-406f-a651-1f11a670f04c",
   "metadata": {},
   "outputs": [],
   "source": [
    "import csv\n",
    "import numpy as np\n",
    "from scipy.optimize import curve_fit\n",
    "import matplotlib.pyplot as plt\n",
    "from scipy import constants"
   ]
  },
  {
   "cell_type": "code",
   "execution_count": 2,
   "id": "5c1c87fe-0cfc-4c04-bbc5-571e744df555",
   "metadata": {},
   "outputs": [],
   "source": [
    "# Open the CSV file and read the data\n",
    "file = open('d1.txt', 'r')\n",
    "reader = csv.reader(file)\n"
   ]
  },
  {
   "cell_type": "code",
   "execution_count": 3,
   "id": "605dfb3c-29d1-4e29-a515-0c80ddcded72",
   "metadata": {},
   "outputs": [],
   "source": [
    "# convert the data to list and then to numpy array\n",
    "data = list(reader)\n",
    "data = np.array(data, dtype=np.float64)"
   ]
  },
  {
   "cell_type": "code",
   "execution_count": 4,
   "id": "0685bac2-9b82-4347-a2e6-a8d6c02ef8cf",
   "metadata": {},
   "outputs": [],
   "source": [
    "# seperate x and y variables\n",
    "x, y = data[:, 0], data[:, 1]\n",
    "n = x.size\n",
    "# print(n)\n",
    "# print(x[0],x[-1])"
   ]
  },
  {
   "cell_type": "code",
   "execution_count": 5,
   "id": "5d138636",
   "metadata": {},
   "outputs": [
    {
     "data": {
      "text/plain": [
       "'creating custom data set'"
      ]
     },
     "execution_count": 5,
     "metadata": {},
     "output_type": "execute_result"
    }
   ],
   "source": [
    "'''creating custom data set'''\n",
    "# def samplef(x,a,b):\n",
    "#     mean = 0\n",
    "#     std_dev = 0.01\n",
    "#     noise = 1e14*np.random.normal(mean, std_dev, size=x.shape) \n",
    "#     return (a/x**5)/((np.e**(b/x))-1)+noise\n",
    "# x = np.linspace(1.0e-7,5e-06,1000)\n",
    "# y = samplef(x,1.1303312191047457e-16,3.558695679613733e-06)"
   ]
  },
  {
   "cell_type": "code",
   "execution_count": 6,
   "id": "882a854f-cdcb-4871-a689-37030681e821",
   "metadata": {},
   "outputs": [
    {
     "data": {
      "text/plain": [
       "'Gaussian filter'"
      ]
     },
     "execution_count": 6,
     "metadata": {},
     "output_type": "execute_result"
    }
   ],
   "source": [
    "'''Gaussian filter'''\n",
    "# from scipy.ndimage import gaussian_filter1d\n",
    "# y= gaussian_filter1d(y, 1.0)"
   ]
  },
  {
   "cell_type": "code",
   "execution_count": 7,
   "id": "74beb865-d5f3-4bd7-a202-d4d879155ab3",
   "metadata": {},
   "outputs": [
    {
     "data": {
      "text/plain": [
       "'Data slicing'"
      ]
     },
     "execution_count": 7,
     "metadata": {},
     "output_type": "execute_result"
    }
   ],
   "source": [
    "'''Data slicing'''\n",
    "# x = x[:n//2]\n",
    "# y = y[:n//2]"
   ]
  },
  {
   "cell_type": "code",
   "execution_count": 8,
   "id": "a814013a-453e-4c50-abc8-6da2f77a21e3",
   "metadata": {},
   "outputs": [
    {
     "data": {
      "image/png": "[encoded data removed]",
      "text/plain": [
       "<Figure size 300x300 with 1 Axes>"
      ]
     },
     "metadata": {},
     "output_type": "display_data"
    }
   ],
   "source": [
    "#plot the data\n",
    "plt.figure(figsize=(3,3))\n",
    "plt.plot(x,y)\n",
    "plt.show()"
   ]
  },
  {
   "cell_type": "markdown",
   "id": "7f85ae74-fbe7-4752-a426-4e72a5ab50fd",
   "metadata": {},
   "source": [
    "Planck's equation for radiation\n",
    "### $B = \\frac{2hc^2}{l^5} \\frac{1}{e^\\frac{hc}{lkT}-1}$"
   ]
  },
  {
   "cell_type": "code",
   "execution_count": 9,
   "id": "11b209ad-7957-4c5f-b882-a74c4f5fb00c",
   "metadata": {},
   "outputs": [
    {
     "name": "stdout",
     "output_type": "stream",
     "text": [
      "12 6.93939393939394e-07 4495219170310.889\n"
     ]
    }
   ],
   "source": [
    "# find index of maximum y, corresponding xmax and ymax\n",
    "imax = np.argmax(y)\n",
    "xmax = x[imax]\n",
    "ymax = y[imax]\n",
    "print(imax, xmax, ymax)"
   ]
  },
  {
   "cell_type": "code",
   "execution_count": 10,
   "id": "a1bdd194-b5b0-40e7-b6ef-6b036540e7ad",
   "metadata": {},
   "outputs": [],
   "source": [
    "#constants used in the equation\n",
    "h = constants.h\n",
    "c = constants.c\n",
    "kb = constants.k\n",
    "c = constants.c\n",
    "wien = constants.Wien"
   ]
  },
  {
   "cell_type": "markdown",
   "id": "7c4e407a-d92e-48c7-83ab-ccf71840944f",
   "metadata": {},
   "source": [
    "Variable Bundling\n",
    "### $B = \\frac{a}{l^5} \\frac{1}{e^\\frac{b}{l}-1}$"
   ]
  },
  {
   "cell_type": "markdown",
   "id": "2c2e7cdc-1e3c-49df-9e41-53a4ab40f457",
   "metadata": {},
   "source": [
    "#### $a = 2hc^2$\n",
    "#### $b = \\frac{hc}{k_bT}$"
   ]
  },
  {
   "cell_type": "code",
   "execution_count": 11,
   "id": "1d56bd88-044f-40c7-8bc6-d7c12c5db1db",
   "metadata": {},
   "outputs": [],
   "source": [
    "# define function to be curve fitted\n",
    "def f(x,a,b):\n",
    "    return (a/x**5)/((np.e**(b/x))-1)"
   ]
  },
  {
   "cell_type": "code",
   "execution_count": 12,
   "id": "bc174a90-196b-410c-ba2f-56ec776c36a5",
   "metadata": {},
   "outputs": [
    {
     "name": "stdout",
     "output_type": "stream",
     "text": [
      "4175.828581441048\n"
     ]
    }
   ],
   "source": [
    "# estimate temperature using wien's displacement law\n",
    "T0= wien/xmax\n",
    "print(T0)"
   ]
  },
  {
   "cell_type": "code",
   "execution_count": 13,
   "id": "fa812d36-8f6a-4e35-9c46-f25b048b2acb",
   "metadata": {},
   "outputs": [
    {
     "name": "stdout",
     "output_type": "stream",
     "text": [
      "1.0294128327957507e-16 3.445409090909091e-06\n"
     ]
    }
   ],
   "source": [
    "# obtain initial guess of a and b using the maxima\n",
    "b0 = 4.965*xmax\n",
    "a0 = ymax*((np.e**(b0/xmax))-1)*(xmax**5)\n",
    "print(a0,b0)"
   ]
  },
  {
   "cell_type": "code",
   "execution_count": 14,
   "id": "d8bb8066-d41c-4717-b9ff-8e1e9fe2916f",
   "metadata": {},
   "outputs": [
    {
     "name": "stdout",
     "output_type": "stream",
     "text": [
      "1.1591145823858313e-16 3.559680378987177e-06\n"
     ]
    }
   ],
   "source": [
    "# curve fit to obtain a, b and covariance matrix\n",
    "popt, pcov = curve_fit(f,x,y,p0=[a0,b0])\n",
    "(a,b) = popt\n",
    "print(a,b) "
   ]
  },
  {
   "cell_type": "code",
   "execution_count": 15,
   "id": "1e13c4e1-e6d6-4f29-abf4-005f10e9006d",
   "metadata": {},
   "outputs": [
    {
     "name": "stdout",
     "output_type": "stream",
     "text": [
      "4041.8709668346787\n"
     ]
    }
   ],
   "source": [
    "# calculate the temperature from b and the constants\n",
    "Tp = h*c/(kb*b)\n",
    "print(Tp)"
   ]
  },
  {
   "cell_type": "code",
   "execution_count": 16,
   "id": "c4dfe358-6c29-4937-8fcc-8a7405beed4e",
   "metadata": {},
   "outputs": [
    {
     "data": {
      "image/png": "[encoded data removed]",
      "text/plain": [
       "<Figure size 500x500 with 1 Axes>"
      ]
     },
     "metadata": {},
     "output_type": "display_data"
    }
   ],
   "source": [
    "# Plot the fitted curve\n",
    "plt.figure(figsize=(5,5))\n",
    "plt.scatter(x,y,color='blue', label='Data Points',s=2)\n",
    "plt.plot(x,f(x,a,b),color='red', label='fitted curve')\n",
    "plt.show()"
   ]
  },
  {
   "cell_type": "code",
   "execution_count": 17,
   "id": "6a0351a0",
   "metadata": {},
   "outputs": [
    {
     "data": {
      "image/png": "[encoded data removed]",
      "text/plain": [
       "<Figure size 300x300 with 2 Axes>"
      ]
     },
     "metadata": {},
     "output_type": "display_data"
    }
   ],
   "source": [
    "#plot the covariance matrix\n",
    "plt.figure(figsize=(3,3))\n",
    "plt.imshow(pcov, cmap='viridis', interpolation='none')\n",
    "plt.colorbar()\n",
    "plt.title('Covariance Matrix')\n",
    "plt.xlabel('Parameter Index')\n",
    "plt.ylabel('Parameter Index')\n",
    "plt.show()"
   ]
  },
  {
   "cell_type": "code",
   "execution_count": 18,
   "id": "b321e7bc",
   "metadata": {},
   "outputs": [
    {
     "name": "stdout",
     "output_type": "stream",
     "text": [
      "[5.50942359 1.16533187]\n"
     ]
    }
   ],
   "source": [
    "# calculate relative standard deviation of a and b\n",
    "perr = np.sqrt(np.diag(pcov))\n",
    "relative_std_dev = (perr/np.abs(popt))*100\n",
    "print(relative_std_dev)"
   ]
  },
  {
   "cell_type": "code",
   "execution_count": 19,
   "id": "c63f0978",
   "metadata": {},
   "outputs": [
    {
     "name": "stdout",
     "output_type": "stream",
     "text": [
      "R-squared: 0.9587700746123372\n"
     ]
    }
   ],
   "source": [
    "# calculate R-squared\n",
    "y_fit = f(x,a,b)\n",
    "ss_res = np.sum((y - y_fit) ** 2)\n",
    "ss_tot = np.sum((y - np.mean(y)) ** 2)\n",
    "r_squared = 1 - (ss_res / ss_tot)\n",
    "print(\"R-squared:\", r_squared)\n"
   ]
  },
  {
   "cell_type": "code",
   "execution_count": 20,
   "id": "01eaee25",
   "metadata": {},
   "outputs": [
    {
     "name": "stdout",
     "output_type": "stream",
     "text": [
      "predicted a :  1.1591145823858313e-16\n",
      "predicted b :  3.559680378987177e-06\n",
      "predicted temperature :  4041.8709668346787\n",
      "R-squared of the curve :  95.87700746123372\n",
      "relative standard deviation of a :  5.509423586883678\n",
      "relative standard deviation of a :  1.1653318676673363\n"
     ]
    }
   ],
   "source": [
    "print('predicted a : ',a)\n",
    "print('predicted b : ',b)\n",
    "print('predicted temperature : ', Tp)\n",
    "print('R-squared of the curve : ', r_squared*100)\n",
    "print('relative standard deviation of a : ', relative_std_dev[0])\n",
    "print('relative standard deviation of a : ', relative_std_dev[1])"
   ]
  },
  {
   "cell_type": "markdown",
   "id": "86f1cc1e",
   "metadata": {},
   "source": [
    "## Partial curve fitting (for b)"
   ]
  },
  {
   "cell_type": "code",
   "execution_count": 21,
   "id": "01a558b9-3298-4c5d-89d9-71facad0346c",
   "metadata": {},
   "outputs": [
    {
     "name": "stdout",
     "output_type": "stream",
     "text": [
      "1.1910429723971884e-16\n"
     ]
    }
   ],
   "source": [
    "# Theoretically calculated value of a\n",
    "ac = 2*h*(c**2)\n",
    "print(ac)"
   ]
  },
  {
   "cell_type": "code",
   "execution_count": 22,
   "id": "4d356415-e824-4cf3-a9ad-aedf5475f4e1",
   "metadata": {},
   "outputs": [],
   "source": [
    "# function with fixed a\n",
    "def f1(x,b):\n",
    "    a = ac\n",
    "    return (a/x**5)/((np.e**(b/x))-1)"
   ]
  },
  {
   "cell_type": "code",
   "execution_count": 23,
   "id": "e6bcf56f-5e08-4b37-8bda-74f4555cf05f",
   "metadata": {},
   "outputs": [],
   "source": [
    "# perform curve fitting\n",
    "popt, pcov1 = curve_fit(f1,x,y,p0=[b0])\n",
    "(b1,) = popt"
   ]
  },
  {
   "cell_type": "code",
   "execution_count": 24,
   "id": "40ef3938-7b04-451e-b56a-3c717631bf9e",
   "metadata": {},
   "outputs": [
    {
     "name": "stdout",
     "output_type": "stream",
     "text": [
      "1.1910429723971884e-16 3.579230221944943e-06 4019.794168820207\n"
     ]
    }
   ],
   "source": [
    "# calculate temperature\n",
    "T1 = h*c/(kb*b1)\n",
    "print(ac,b1,T1)"
   ]
  },
  {
   "cell_type": "code",
   "execution_count": 25,
   "id": "1e637487",
   "metadata": {},
   "outputs": [
    {
     "name": "stdout",
     "output_type": "stream",
     "text": [
      "[1.27023648e-08] [4.07816757e-35 1.72076378e-15]\n",
      "[0.35489097] [3.57923022e-06]\n"
     ]
    }
   ],
   "source": [
    "perr = np.sqrt(np.diag(pcov1))\n",
    "relative_std_dev = (perr/np.abs(popt))*100\n",
    "print(perr,np.diag(pcov))\n",
    "print(relative_std_dev,popt)"
   ]
  },
  {
   "cell_type": "code",
   "execution_count": 26,
   "id": "49638c0f",
   "metadata": {},
   "outputs": [],
   "source": [
    "y_fit = f1(x,b1)\n",
    "ss_res = np.sum((y - y_fit) ** 2)\n",
    "ss_tot = np.sum((y - np.mean(y)) ** 2)\n",
    "r_squared = 1 - (ss_res / ss_tot)"
   ]
  },
  {
   "cell_type": "code",
   "execution_count": 27,
   "id": "16ba48b5",
   "metadata": {},
   "outputs": [
    {
     "name": "stdout",
     "output_type": "stream",
     "text": [
      "1.1910429723971884e-16 3.579230221944943e-06 4019.794168820207 95.86673075101226 [0.35489097]\n"
     ]
    }
   ],
   "source": [
    "# print other metrics\n",
    "print(ac,b1,T1,r_squared*100,relative_std_dev)"
   ]
  },
  {
   "cell_type": "code",
   "execution_count": 28,
   "id": "7d59f9a8-7c8a-4045-b892-af88f0758326",
   "metadata": {},
   "outputs": [
    {
     "data": {
      "image/png": "[encoded data removed]",
      "text/plain": [
       "<Figure size 300x300 with 1 Axes>"
      ]
     },
     "metadata": {},
     "output_type": "display_data"
    }
   ],
   "source": [
    "# graphs of original curve fit and partial curve fit\n",
    "plt.figure(figsize=(3,3))\n",
    "plt.scatter(x,f(x,a,b),color='blue', label='Original curve fit',s=2)\n",
    "plt.plot(x,f1(x,b1),color='red', label='Partial curve fit')\n",
    "plt.show()"
   ]
  }
 ],
 "metadata": {
  "kernelspec": {
   "display_name": "Python 3 (ipykernel)",
   "language": "python",
   "name": "python3"
  },
  "language_info": {
   "codemirror_mode": {
    "name": "ipython",
    "version": 3
   },
   "file_extension": ".py",
   "mimetype": "text/x-python",
   "name": "python",
   "nbconvert_exporter": "python",
   "pygments_lexer": "ipython3",
   "version": "3.9.19"
  }
 },
 "nbformat": 4,
 "nbformat_minor": 5
}
