{
 "cells": [
  {
   "cell_type": "code",
   "execution_count": 120,
   "id": "22c73be6-be80-48d7-b49f-1689cc055c35",
   "metadata": {},
   "outputs": [],
   "source": [
    "import csv\n",
    "import numpy as np\n",
    "from scipy.optimize import curve_fit\n",
    "import matplotlib.pyplot as plt"
   ]
  },
  {
   "cell_type": "code",
   "execution_count": 139,
   "id": "6d8bdea2-09de-4e46-80f2-5142657b8f7d",
   "metadata": {},
   "outputs": [],
   "source": [
    "x = np.linspace(0.001,10,10000)\n",
    "y = (1/(x**5))*3*1/(np.exp(2*x)-1)"
   ]
  },
  {
   "cell_type": "code",
   "execution_count": 140,
   "id": "4d99225e-c095-4d44-833b-e46e6c3b9c4c",
   "metadata": {},
   "outputs": [],
   "source": [
    "n = 100000 * np.random.randn(len(x))\n",
    "y = y + n"
   ]
  },
  {
   "cell_type": "code",
   "execution_count": 141,
   "id": "6d53c13c-c3bc-46e5-b513-921e337c01aa",
   "metadata": {},
   "outputs": [
    {
     "data": {
      "image/png": "[encoded data removed]",
      "text/plain": [
       "<Figure size 200x200 with 1 Axes>"
      ]
     },
     "metadata": {},
     "output_type": "display_data"
    }
   ],
   "source": [
    "plt.figure(figsize=(2,2))\n",
    "plt.plot(x,y)\n",
    "plt.show()"
   ]
  },
  {
   "cell_type": "code",
   "execution_count": 142,
   "id": "b395c0e5-b442-4c8d-91d2-89eb051c06d3",
   "metadata": {},
   "outputs": [],
   "source": [
    "def f(x,a,b):\n",
    "    return (1/(x**5))*a*1/(np.exp(b*x)-1)"
   ]
  },
  {
   "cell_type": "code",
   "execution_count": 143,
   "id": "1b8fbab0-c021-43cb-921f-e0be352862ba",
   "metadata": {},
   "outputs": [],
   "source": [
    "(a,b),pcov= curve_fit(f,x,y)"
   ]
  },
  {
   "cell_type": "code",
   "execution_count": 144,
   "id": "e8e437f2-1b52-4634-8a28-71fc58aa9e65",
   "metadata": {},
   "outputs": [
    {
     "name": "stdout",
     "output_type": "stream",
     "text": [
      "3.0000000043419828 2.0000000028917775\n"
     ]
    }
   ],
   "source": [
    "print(a,b)"
   ]
  },
  {
   "cell_type": "code",
   "execution_count": null,
   "id": "8932fe21-4176-40d8-b3c5-9e2201b8bcf3",
   "metadata": {},
   "outputs": [],
   "source": []
  }
 ],
 "metadata": {
  "kernelspec": {
   "display_name": "Python (tf)",
   "language": "python",
   "name": "tf"
  },
  "language_info": {
   "codemirror_mode": {
    "name": "ipython",
    "version": 3
   },
   "file_extension": ".py",
   "mimetype": "text/x-python",
   "name": "python",
   "nbconvert_exporter": "python",
   "pygments_lexer": "ipython3",
   "version": "3.9.19"
  }
 },
 "nbformat": 4,
 "nbformat_minor": 5
}
