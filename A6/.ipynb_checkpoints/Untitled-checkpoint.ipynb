{
 "cells": [
  {
   "cell_type": "code",
   "execution_count": 1,
   "id": "3fff6f55-3971-4666-8127-ab7c55bf6988",
   "metadata": {},
   "outputs": [],
   "source": [
    "import numpy as np\n",
    "import cython"
   ]
  },
  {
   "cell_type": "code",
   "execution_count": 2,
   "id": "b531d95c-fdd7-453e-bf3e-0fdaa3b2043c",
   "metadata": {},
   "outputs": [],
   "source": [
    "x = np.linspace(0,1,100)"
   ]
  },
  {
   "cell_type": "code",
   "execution_count": 3,
   "id": "7d1df0e9-ff72-4b8e-b0a2-069c028133b4",
   "metadata": {},
   "outputs": [],
   "source": [
    "def f1(x):\n",
    "    return x*x"
   ]
  },
  {
   "cell_type": "code",
   "execution_count": 4,
   "id": "16b61687-caa1-4c03-b079-9238abb2350f",
   "metadata": {},
   "outputs": [],
   "source": [
    "y = f(x)\n"
   ]
  },
  {
   "cell_type": "code",
   "execution_count": 5,
   "id": "16ffe16d-9ab2-4250-bdf1-12058ac5cd0d",
   "metadata": {},
   "outputs": [
    {
     "name": "stdout",
     "output_type": "stream",
     "text": [
      "0.33335033840084355\n"
     ]
    }
   ],
   "source": [
    "area = np.trapz(y,x)\n",
    "print(area)"
   ]
  },
  {
   "cell_type": "code",
   "execution_count": 1,
   "id": "7d073219-f55e-4098-bc6f-9df64d3c8f55",
   "metadata": {},
   "outputs": [],
   "source": [
    "def py_trapz(f, a, b, n):\n",
    "    dx = (b-a)/(n-1)\n",
    "    area = 0\n",
    "    for i in range(n-1):\n",
    "        x = a + i*dx\n",
    "        area+=(f(x)+f(x+dx))*dx/2\n",
    "    return area\n",
    "\n",
    "def np_trapz(f,a,b,n):\n",
    "    x = np.linspace(a,b,n)\n",
    "    y = f(x)\n",
    "    areanp = np.trapz(y,x)\n",
    "    return areanp\n",
    "    "
   ]
  },
  {
   "cell_type": "code",
   "execution_count": null,
   "id": "cf0e4aa1-487b-476c-b6a3-e2ff6f2328e7",
   "metadata": {},
   "outputs": [],
   "source": [
    "%load_ext Cython"
   ]
  },
  {
   "cell_type": "code",
   "execution_count": null,
   "id": "34bfa581-0023-41fb-bea9-b4a2c504762f",
   "metadata": {},
   "outputs": [],
   "source": [
    "%%cython -a\n",
    "def c_trap(f,a,b,n):\n",
    "    dx = (b-a)/(n-1)\n",
    "    area = 0\n",
    "    for i in range(n-1):\n",
    "        x = a + i*dx\n",
    "        area+=(f(x)+f(x+dx))*dx/2\n",
    "    return area"
   ]
  },
  {
   "cell_type": "code",
   "execution_count": 24,
   "id": "d630e065-4d4d-4c33-b4c8-0821ca30577a",
   "metadata": {},
   "outputs": [],
   "source": [
    "a = 0\n",
    "b = 2\n",
    "n = 10000\n",
    "area = py_trapz(f,a,b,n)\n",
    "areanp = np_trapz(f,a,b,n)"
   ]
  },
  {
   "cell_type": "code",
   "execution_count": 25,
   "id": "13fcd8b9-bc31-42a5-b9b4-32fa919914d6",
   "metadata": {},
   "outputs": [
    {
     "name": "stdout",
     "output_type": "stream",
     "text": [
      "2.6666666800026633 2.6666666800026673\n"
     ]
    }
   ],
   "source": [
    "print(area,areanp)"
   ]
  },
  {
   "cell_type": "code",
   "execution_count": 26,
   "id": "33743dbe-0ce3-48ed-a9c4-e20876a0a985",
   "metadata": {},
   "outputs": [
    {
     "name": "stdout",
     "output_type": "stream",
     "text": [
      "6.61 ms ± 267 µs per loop (mean ± std. dev. of 7 runs, 100 loops each)\n"
     ]
    }
   ],
   "source": [
    "%timeit area = py_trapz(f1,a,b,n)"
   ]
  },
  {
   "cell_type": "code",
   "execution_count": 27,
   "id": "c55e9693-ce37-4e16-bcea-eef291970ae4",
   "metadata": {},
   "outputs": [
    {
     "name": "stdout",
     "output_type": "stream",
     "text": [
      "125 µs ± 3.47 µs per loop (mean ± std. dev. of 7 runs, 10,000 loops each)\n"
     ]
    }
   ],
   "source": [
    "%timeit areanp = np_trapz(f1,a,b,n)"
   ]
  }
 ],
 "metadata": {
  "kernelspec": {
   "display_name": "Python (tf)",
   "language": "python",
   "name": "tf"
  },
  "language_info": {
   "codemirror_mode": {
    "name": "ipython",
    "version": 3
   },
   "file_extension": ".py",
   "mimetype": "text/x-python",
   "name": "python",
   "nbconvert_exporter": "python",
   "pygments_lexer": "ipython3",
   "version": "3.9.19"
  }
 },
 "nbformat": 4,
 "nbformat_minor": 5
}
